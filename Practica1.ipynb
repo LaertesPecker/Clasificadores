{
  "nbformat": 4,
  "nbformat_minor": 0,
  "metadata": {
    "kernelspec": {
      "display_name": "Python 3",
      "language": "python",
      "name": "python3"
    },
    "language_info": {
      "codemirror_mode": {
        "name": "ipython",
        "version": 3
      },
      "file_extension": ".py",
      "mimetype": "text/x-python",
      "name": "python",
      "nbconvert_exporter": "python",
      "pygments_lexer": "ipython3",
      "version": "3.6.1"
    },
    "colab": {
      "name": "Practica1.ipynb",
      "provenance": [],
      "collapsed_sections": [],
      "include_colab_link": true
    }
  },
  "cells": [
    {
      "cell_type": "markdown",
      "metadata": {
        "id": "view-in-github",
        "colab_type": "text"
      },
      "source": [
        "<a href=\"https://colab.research.google.com/github/LaertesPecker/Clasificadores/blob/master/Practica1.ipynb\" target=\"_parent\"><img src=\"https://colab.research.google.com/assets/colab-badge.svg\" alt=\"Open In Colab\"/></a>"
      ]
    },
    {
      "cell_type": "markdown",
      "metadata": {
        "id": "nx7EE02AplNp",
        "colab_type": "text"
      },
      "source": [
        "# PRÁCTICA 1\n",
        "\n",
        "\n",
        "---\n",
        "\n"
      ]
    },
    {
      "cell_type": "markdown",
      "metadata": {
        "id": "xiRCjRQSplNt",
        "colab_type": "text"
      },
      "source": [
        "## 1. Introducción\n",
        "\n",
        "\n",
        "---\n",
        "\n"
      ]
    },
    {
      "cell_type": "markdown",
      "metadata": {
        "id": "q8WfsMIjplNw",
        "colab_type": "text"
      },
      "source": [
        "## 2. Clasificador de la distancia euclídea\n",
        "\n",
        "---\n",
        "### 2.1 En qué consiste el clasificador y como lo hemos implementado\n",
        "\n",
        "El clasificador de la distancia euclídea parte de la hipótesis de que dispersion de las clases es pequeña en relación a la distancia entre ellas. Una vez aceptada la hipótesis, el representante de cada clase será el centroide de todos los datos pertenecientes a esa clase. Por tanto, el primer paso para impementar en clasificador será calcular los centroides de los datos de test. Una vez calculados los centroides, para determinar la pertenencia de un dato a una clase, calcularemos la distancia del dato a todos los centroides y el dato pertenecerá a la clase que representa el centroide más cercano a él. \n",
        "\n",
        "Matemáticamente, el cálculo del centroide es: $z_i = \\frac{1}{card(\\alpha_i)}\\sum_{x \\in \\alpha_i} x$, donde $\\alpha_i$ representa a la clase i. Como ya se ha expuesto arriba, la función discriminante será la distancia euclídea $f_i(x)=d_E(x,z_i)$. Por tanto, se clasificará un objeto en la clase cuya distancia sea la mínima, es decir $x \\in \\alpha_i \\leftrightarrow arg min_i{f_i(x)}$\n",
        "\n",
        "### 2.2 Implementación del clasificador\n",
        "Para implementar el clasificador se deberán definir 4 funciones: La función de **fit**, la cual calculará los centroides de nuestros datos de test. La función **predict**, la cual calculará la distancia de todos nuestros datos los cuales queremos obtener su clase a todos los centroides calculados en la función fit. La función **pred_label**, que cogerá la etiqueta del centroide mas cercano a todos los datos que queremos predecir. Finalmente, la función **num_aciertos**, que calculará el número de aciertos de nuestro clasificador.\n",
        "\n",
        "Empezamos importando los paquetes necesarios y creando la clase y el constructor de la misma:"
      ]
    },
    {
      "cell_type": "code",
      "metadata": {
        "id": "Ezy3rBUmwr6I",
        "colab_type": "code",
        "colab": {}
      },
      "source": [
        "import numpy as np\n",
        "from abc import abstractmethod\n",
        "\n",
        "class Classifier:\n",
        "    @abstractmethod\n",
        "    def fit(self,X,y):\n",
        "        pass\n",
        "\n",
        "    @abstractmethod\n",
        "    def predict(self,X):\n",
        "        pass\n",
        "\n",
        "class ClassifEuclid(Classifier):\n",
        "    def __init__(self,labels=[]):\n",
        "        self.labels=labels\n",
        "        pass"
      ],
      "execution_count": 0,
      "outputs": []
    },
    {
      "cell_type": "markdown",
      "metadata": {
        "id": "nQa1Iu7U7BM_",
        "colab_type": "text"
      },
      "source": [
        "A continuación, definimos la función fit:"
      ]
    },
    {
      "cell_type": "code",
      "metadata": {
        "id": "w99NNecF7E6e",
        "colab_type": "code",
        "colab": {}
      },
      "source": [
        "def fit(self,X,y):\n",
        "        self = np.array([np.mean(X[y==l],axis=0) for l in np.unique(y)])\n",
        "        return self"
      ],
      "execution_count": 0,
      "outputs": []
    },
    {
      "cell_type": "markdown",
      "metadata": {
        "id": "qKjKaH8f7RBe",
        "colab_type": "text"
      },
      "source": [
        "Como se ha descrito arriba, la función fit calcula los centroides, para ello recorre todas las x con misma etiqueta y calcula su media. A continuación se procede a escribir la función predict:"
      ]
    },
    {
      "cell_type": "code",
      "metadata": {
        "id": "TrbJDVVj7eZZ",
        "colab_type": "code",
        "colab": {}
      },
      "source": [
        "def predict(self,X):\n",
        "        distancias = np.linalg.norm(centroides[:,np.newaxis] - X,axis=2)\n",
        "        return distancias"
      ],
      "execution_count": 0,
      "outputs": []
    },
    {
      "cell_type": "markdown",
      "metadata": {
        "id": "MFELkfNJ88aH",
        "colab_type": "text"
      },
      "source": [
        "Calcula la norma entre los centroides y los valores de x, es decir, calcula la distancia euclídea y la almacena en la variable distancias. Hay que añadiendo una nueva columna o hacer un reshape de centroides para poder operar con x, haciendo el reshape para los datos del iris deberíamos cambiar la matriz de centroides con:\n",
        "\n",
        "```\n",
        "centroides.reshape(3,1,4)\n",
        "```\n",
        "Continuamos definiendo la función pred_label:\n"
      ]
    },
    {
      "cell_type": "code",
      "metadata": {
        "id": "0IXQiusm9VBx",
        "colab_type": "code",
        "colab": {}
      },
      "source": [
        "def pred_label(self,X):\n",
        "        distancias = predict(self,X)\n",
        "        pred = np.argmin(distancias,axis=0)\n",
        "        return pred"
      ],
      "execution_count": 0,
      "outputs": []
    },
    {
      "cell_type": "markdown",
      "metadata": {
        "id": "h7kDy0_N9sGj",
        "colab_type": "text"
      },
      "source": [
        "Finalmente, calculamos el número de aciertos y el porcentaje de aciertos de nuestro clasificador:"
      ]
    },
    {
      "cell_type": "code",
      "metadata": {
        "id": "RzGncrl99zdd",
        "colab_type": "code",
        "colab": {}
      },
      "source": [
        "def num_aciertos(self,X,y):\n",
        "        pred = pred_label(self,X)\n",
        "        numAciertos = (pred == y).sum()\n",
        "        porcAciertos = (pred==y).mean()*100\n",
        "        print(f\"Numero de aciertos: {numAciertos} , Porcetaje de Aciertos: {porcAciertos}\" )\n",
        "        return"
      ],
      "execution_count": 0,
      "outputs": []
    },
    {
      "cell_type": "markdown",
      "metadata": {
        "id": "nZGQSU-GwuSs",
        "colab_type": "text"
      },
      "source": [
        "### 2.3 Tabla de resultados. Discusión"
      ]
    },
    {
      "cell_type": "markdown",
      "metadata": {
        "id": "s4TjdJyeAk7F",
        "colab_type": "text"
      },
      "source": [
        "#### 2.3.1 Datos Iris\n",
        "\n",
        "Utilizamos nuestro clasificador para los datos de iris, wine y cancer. Para entrenar nuestro clasificador utilizaremos todos los datos y veremos que, aún así, no obtendremos un 100% de porcentaje de aciertos."
      ]
    },
    {
      "cell_type": "code",
      "metadata": {
        "id": "X-i-MilA-WVe",
        "colab_type": "code",
        "colab": {
          "base_uri": "https://localhost:8080/",
          "height": 54
        },
        "outputId": "117d575f-7406-47ad-db8b-d03fda52bb64"
      },
      "source": [
        "from sklearn.datasets import load_iris, load_breast_cancer, load_wine\n",
        "dataset = load_iris()\n",
        "X = dataset.data\n",
        "y = dataset.target\n",
        "clasfIris = ClassifEuclid(Classifier())\n",
        "centroides = fit(clasfIris,X,y)\n",
        "distancias = predict(clasfIris,X)\n",
        "labels = pred_label(clasfIris,X)\n",
        "print(f\"Datos Iris:\")\n",
        "num_aciertos(clasfIris,X,y)"
      ],
      "execution_count": 41,
      "outputs": [
        {
          "output_type": "stream",
          "text": [
            "Datos Iris:\n",
            "Numero de aciertos: 139 , Porcetaje de Aciertos: 92.66666666666666\n"
          ],
          "name": "stdout"
        }
      ]
    },
    {
      "cell_type": "code",
      "metadata": {
        "id": "EgqCOC_4BxcG",
        "colab_type": "code",
        "colab": {
          "base_uri": "https://localhost:8080/",
          "height": 54
        },
        "outputId": "894146b3-c5b0-4662-9d72-063394cce12f"
      },
      "source": [
        "dataset = load_wine()\n",
        "X = dataset.data\n",
        "y = dataset.target\n",
        "clasfIris = ClassifEuclid(Classifier())\n",
        "centroides = fit(clasfIris,X,y)\n",
        "distancias = predict(clasfIris,X)\n",
        "labels = pred_label(clasfIris,X)\n",
        "print(f\"Datos Wine:\")\n",
        "num_aciertos(clasfIris,X,y)"
      ],
      "execution_count": 42,
      "outputs": [
        {
          "output_type": "stream",
          "text": [
            "Datos Wine:\n",
            "Numero de aciertos: 129 , Porcetaje de Aciertos: 72.47191011235955\n"
          ],
          "name": "stdout"
        }
      ]
    },
    {
      "cell_type": "code",
      "metadata": {
        "id": "hkco2hYVCflk",
        "colab_type": "code",
        "colab": {
          "base_uri": "https://localhost:8080/",
          "height": 54
        },
        "outputId": "f9e8130c-8b03-4501-8c70-9d1515c29631"
      },
      "source": [
        "dataset = load_breast_cancer()\n",
        "X = dataset.data\n",
        "y = dataset.target\n",
        "clasfIris = ClassifEuclid(Classifier())\n",
        "centroides = fit(clasfIris,X,y)\n",
        "distancias = predict(clasfIris,X)\n",
        "labels = pred_label(clasfIris,X)\n",
        "print(f\"Datos Cancer:\")\n",
        "num_aciertos(clasfIris,X,y)"
      ],
      "execution_count": 43,
      "outputs": [
        {
          "output_type": "stream",
          "text": [
            "Datos Cancer:\n",
            "Numero de aciertos: 507 , Porcetaje de Aciertos: 89.103690685413\n"
          ],
          "name": "stdout"
        }
      ]
    },
    {
      "cell_type": "markdown",
      "metadata": {
        "id": "7cc4NAogplN0",
        "colab_type": "text"
      },
      "source": [
        "## Clasificador Estadístico Bayesiano\n",
        "\n",
        "- En qué consiste el clasificador y como lo hemos implementado\n",
        "- Implementación del clasificador\n",
        "- Tabla de resultados. Discusión y comparadlos con el de distancia euclidea"
      ]
    },
    {
      "cell_type": "markdown",
      "metadata": {
        "id": "mvwKgN1_plN3",
        "colab_type": "text"
      },
      "source": [
        "## Regularización\n",
        "\n",
        "- Explica brevemente en qué consiste la regularización y justifica su necesidad.\n",
        "- Implementa el clasificador Estadístico Bayesiano empleando dos parámetros de regularización: Un parámetro booleano que determine si se comparten o no las matrices de covariazas y un parámetro “shrinkage” que regulariza la estimación de la matriz de covarianzas"
      ]
    },
    {
      "cell_type": "markdown",
      "metadata": {
        "id": "NzFeDOhlplN9",
        "colab_type": "text"
      },
      "source": [
        "## Evaluación del Rendimiento\n",
        "\n",
        "Empleando el código de soporte que se ha proporcionado en los esqueletos de las prácticas parciales, entrenay evalúa el rendimiento de los clasificadores de la distancia euclídea y del clasificador estadístico bayesiano con regularización, empleando validación cruzada k-fold, en las bases de datos de Iris, Wine y Cancer. Compara los resultados con los obtenidos en las secciones anteriores y discute las diferencias.Empleando el código de soporte que se ha proporcionado en los esqueletos de las prácticas parciales, entrena, encontrando los parámetros de regularización que obtienen el mejor rendimiento para el clasificador bayesiano paramétrico, y evalúa el rendimiento de los clasificadores de la distancia euclídea y del clasificador bayesiano paramétrico, empleando el método de exclusión en las bases de datos MNIST e Isolet.Compara los resultados con los obtenidos en las secciones anteriores y discute las diferencias.Para entrenar un clasificador y hacer una correcta evaluación de su rendimiento es necesario que el conjunto de datos que se utiliza para evaluación (conjunto de test) no se haya utilizado en ninguna etapa del entrenamiento. En caso contrario estaríamos sobre-ajustando a dicho conjunto de test. En este apartado, para simplificar el proceso se os ha propuesto entrenar y seleccionar los parámetros de regularización empleando un método wrapper que optimizase el rendimiento del conjunto de test. Razona por qué esta estimación del rendimiento está sesgada y qué habría que hacer para obtener una estimación más ajustada."
      ]
    },
    {
      "cell_type": "markdown",
      "metadata": {
        "id": "EmMn9SajplN_",
        "colab_type": "text"
      },
      "source": [
        "## Aplicación en un caso real de reconocimiento de texto\n",
        "\n",
        "Emplea los clasificadores construidos en el apartado anterior para crear un programa capaz de reconocer el texto presente en una hoja de texto escaneada como la que se puede encontrar en el fichero “EJEMPLO_PRACTICA6.JPG” de la práctica 6. Puedes emplear todo el código de soporte de la Práctica 6, si así lo deseas. Describe el proceso de análisis que has seguido para mejorar tus resultados respecto a los resultados de partida. Motiva cada una de las decisiones tomadas. Describe cómo se han evaluado los resultados, si se han empleado otras imágenes tomadas por el estudiante y si es así cómo han cambiado los resultados con respecto a los resultados del fichero “EJEMPLO_PRACTICA6.JPG”. Proporciona el resultado obtenido sobre la imagen “EJEMPLO_PRACTICA6.JPG”."
      ]
    },
    {
      "cell_type": "markdown",
      "metadata": {
        "id": "hN18c2FEplOF",
        "colab_type": "text"
      },
      "source": [
        "## Conclusiones\n",
        "Discusión final sobre los resultados obtenidos.También son bienvenidos los comentarios que quieras hacer sobre cualquier aspecto del curso."
      ]
    },
    {
      "cell_type": "code",
      "metadata": {
        "id": "jDP_WF5RplOI",
        "colab_type": "code",
        "colab": {}
      },
      "source": [
        ""
      ],
      "execution_count": 0,
      "outputs": []
    }
  ]
}